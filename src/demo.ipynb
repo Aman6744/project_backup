{
 "cells": [
  {
   "cell_type": "code",
   "execution_count": 13,
   "metadata": {},
   "outputs": [
    {
     "name": "stdout",
     "output_type": "stream",
     "text": [
      "source: ../data/dataset_hdf5/iam_words.hdf5\n",
      "output ../output\n",
      "target ../output/checkpoint_weights_2nd_day.hdf5\n",
      "charset: 0123456789abcdefghijklmnopqrstuvwxyzABCDEFGHIJKLMNOPQRSTUVWXYZ!\"#$%&'()*+,-./:;<=>?@\n",
      "shuffle_buffer_size: 0\n"
     ]
    }
   ],
   "source": [
    "import os\n",
    "import datetime\n",
    "import string\n",
    "\n",
    "# define parameters\n",
    "epochs = 1000\n",
    "batch_size = 32\n",
    "\n",
    "# define paths\n",
    "source_path = os.path.join(\"..\", \"data\", \"dataset_hdf5\", \"iam_words.hdf5\")\n",
    "output_path = os.path.join(\"..\", \"output\")\n",
    "target_path = os.path.join(output_path, \"checkpoint_weights_2nd_day.hdf5\")\n",
    "os.makedirs(output_path, exist_ok = True)\n",
    "\n",
    "# define input size, number max of chars per line and list of valid chars\n",
    "target_image_size = (256, 64, 1)\n",
    "maxTextLength = 32\n",
    "charset = string.printable[:84]\n",
    "buf_size = 0\n",
    "\n",
    "\n",
    "print(\"source:\", source_path)\n",
    "print(\"output\", output_path)\n",
    "print(\"target\", target_path)\n",
    "print(\"charset:\", charset)\n",
    "print(\"shuffle_buffer_size:\", buf_size)"
   ]
  },
  {
   "cell_type": "code",
   "execution_count": 14,
   "metadata": {},
   "outputs": [],
   "source": [
    "# import data.generator as dg\n",
    "\n",
    "# train_dgen = dg.create_dataset(source_path,\n",
    "#                                charset=charset, \n",
    "#                                partition='train',\n",
    "#                                batch_size=batch_size, \n",
    "#                                maxTextLength=maxTextLength, \n",
    "#                                buf_size = buf_size)\n",
    "\n",
    "# valid_dgen = dg.create_dataset(source_path,\n",
    "#                                charset=charset, \n",
    "#                                partition='valid',\n",
    "#                                batch_size=batch_size, \n",
    "#                                maxTextLength=maxTextLength)"
   ]
  },
  {
   "cell_type": "code",
   "execution_count": 15,
   "metadata": {},
   "outputs": [],
   "source": [
    "from model import MyModel\n",
    "\n",
    "model = MyModel(input_size=target_image_size,\n",
    "                vocab_size=2+len(charset),\n",
    "                beam_width=10,\n",
    "                stop_tolerance=20,\n",
    "                reduce_tolerance=15,\n",
    "                top_paths=10)\n",
    "\n",
    "model.compile(learning_rate=0.001)\n",
    "# model.summary(output_path, \"summary.txt\")\n",
    "\n",
    "model.load_checkpoint(target=target_path)\n",
    "# callbacks = model.get_callbacks(logdir=output_path, checkpoint=target_path, verbose=1)"
   ]
  },
  {
   "cell_type": "code",
   "execution_count": 16,
   "metadata": {},
   "outputs": [],
   "source": [
    "import matplotlib.pyplot as plt\n",
    "import Preprocess_image as pp\n",
    "img_path = [\"./s.png\", \"./t.png\", \"./u.png\", \"./v.png\", \"./w.png\", \"./x.png\", \"./y.png\", \"./z.png\"]\n",
    "\n",
    "img1 = pp.preprocess_image(img_path[0], target_image_size)\n",
    "img2 = pp.preprocess_image(img_path[1], target_image_size)\n",
    "img3 = pp.preprocess_image(img_path[2], target_image_size)\n",
    "img4 = pp.preprocess_image(img_path[3], target_image_size)\n",
    "img5 = pp.preprocess_image(img_path[4], target_image_size)\n",
    "img6 = pp.preprocess_image(img_path[5], target_image_size)\n",
    "img7 = pp.preprocess_image(img_path[6], target_image_size)\n",
    "img8 = pp.preprocess_image(img_path[7], target_image_size)\n",
    "img = pp.normalization([img1, img2, img3, img4, img5, img6, img7, img8])\n",
    "\n",
    "predicts, probabilities = model.predict(img, ctc_decode=True)"
   ]
  },
  {
   "cell_type": "code",
   "execution_count": 17,
   "metadata": {
    "scrolled": true
   },
   "outputs": [
    {
     "name": "stdout",
     "output_type": "stream",
     "text": [
      "adding : 0.98241884\n",
      "quant : 0.3512833\n",
      "sends : 0.5309153\n",
      "phasse : 0.3669612\n",
      "the : 0.99721104\n",
      "nodes : 0.7598824\n",
      "commit. : 0.8123186\n",
      "2-p : 0.5442868\n"
     ]
    },
    {
     "data": {
      "image/png": "[encoded data removed]",
      "text/plain": [
       "<Figure size 432x288 with 8 Axes>"
      ]
     },
     "metadata": {
      "needs_background": "light"
     },
     "output_type": "display_data"
    },
    {
     "name": "stdout",
     "output_type": "stream",
     "text": [
      "['adding'] ['addding'] ['adling'] ['aldding'] ['ading'] ['odding'] ['addingg'] ['addling'] ['alding'] ['addin'] \n",
      "['quant'] ['quart'] ['guant'] ['quast'] ['guart'] ['guast'] ['quanh'] ['qeant'] ['qrant'] ['quarh'] \n",
      "['sends'] ['senls'] ['senods'] ['senbs'] ['senols'] [\"sen's\"] ['senks'] ['send'] ['sendy'] ['senl'] \n",
      "['phasse'] ['phesse'] ['phase'] ['phaise'] ['phosse'] ['pharse'] ['Phasse'] ['phese'] ['phose'] ['phass'] \n",
      "['the'] ['they'] ['th'] ['te'] ['tha'] ['The'] ['thee'] ['he'] ['thHe'] ['thh'] \n",
      "['nodes'] ['noodes'] ['rodes'] ['modes'] ['ndes'] ['noded'] ['nods'] ['noder'] ['noes'] ['node'] \n",
      "['commit.'] ['commit'] ['commit-.'] ['commit-'] ['conmit.'] ['comnit.'] ['committ.'] [\"commi't.\"] ['commit.-'] [\"comm'it.\"] \n",
      "['2-p'] ['2-P'] ['2-.p'] ['2-.'] ['2-0'] ['2-o'] ['2.-p'] ['2-8'] ['2-.P'] ['2-i'] \n"
     ]
    }
   ],
   "source": [
    "from data.tokenizer import Tokenizer\n",
    "\n",
    "tokenizer = Tokenizer(filters = string.printable[84:], charset=charset)\n",
    "\n",
    "for index, (word, prob) in enumerate(zip(tokenizer.sequences_to_texts(predicts), probabilities)):\n",
    "    print(word,\":\", prob)\n",
    "    plt.subplot(811+index)\n",
    "    plt.imshow(pp.adjust_to_see(img[index]), cmap = \"gray\")\n",
    "    \n",
    "plt.show()\n",
    "for i in range(8):\n",
    "    for j in predicts[i]:\n",
    "        print(tokenizer.sequences_to_texts([[j]]), end=\" \")\n",
    "    print()"
   ]
  }
 ],
 "metadata": {
  "kernelspec": {
   "display_name": "Python 3",
   "language": "python",
   "name": "python3"
  },
  "language_info": {
   "codemirror_mode": {
    "name": "ipython",
    "version": 3
   },
   "file_extension": ".py",
   "mimetype": "text/x-python",
   "name": "python",
   "nbconvert_exporter": "python",
   "pygments_lexer": "ipython3",
   "version": "3.8.5"
  }
 },
 "nbformat": 4,
 "nbformat_minor": 4
}
